{
 "cells": [
  {
   "cell_type": "code",
   "execution_count": 8,
   "metadata": {
    "collapsed": true
   },
   "outputs": [],
   "source": [
    "from bs4 import BeautifulSoup\n",
    "from urllib import request"
   ]
  },
  {
   "cell_type": "code",
   "execution_count": 9,
   "metadata": {
    "collapsed": true
   },
   "outputs": [],
   "source": [
    "# create list of the links to word lists\n",
    "base_url = \"http://www.majortests.com/gre/wordlist.php\"\n",
    "\n",
    "# making a request of base url\n",
    "res = request.urlopen(base_url)\n",
    "\n",
    "# let BeautifulSoup analyze and scrape the content of the website\n",
    "# res.read() returns the content as html\n",
    "soup = BeautifulSoup(res.read(), 'html5lib')"
   ]
  },
  {
   "cell_type": "code",
   "execution_count": 10,
   "metadata": {
    "collapsed": true
   },
   "outputs": [],
   "source": [
    "# finding all <a> tag in the website\n",
    "links_list = soup.find_all('a')\n",
    "\n",
    "new_list = []\n",
    "\n",
    "# just select the actual hyperlink and store them in a new list\n",
    "for l in links_list:\n",
    "    new_list.append(l['href'])"
   ]
  },
  {
   "cell_type": "code",
   "execution_count": 24,
   "metadata": {},
   "outputs": [],
   "source": [
    "import re\n",
    "\n",
    "href_list = []\n",
    "\n",
    "link_for_wordlist = base_url[:-4] + \"/wordlist_\"# strip \".php\" and concatenate /wordlist_\n",
    "\n",
    "# select only needed links\n",
    "# you have to analyze the website first to choose what you need in general\n",
    "for h in new_list:\n",
    "    match = re.search(\"wordlist_\\d\", h)\n",
    "    if match:\n",
    "        href_list.append(h)\n",
    "    else:\n",
    "        pass"
   ]
  },
  {
   "cell_type": "code",
   "execution_count": 25,
   "metadata": {
    "scrolled": true
   },
   "outputs": [
    {
     "data": {
      "text/plain": [
       "['http://www.majortests.com/gre/wordlist_01',\n",
       " 'http://www.majortests.com/gre/wordlist_02',\n",
       " 'http://www.majortests.com/gre/wordlist_03',\n",
       " 'http://www.majortests.com/gre/wordlist_04',\n",
       " 'http://www.majortests.com/gre/wordlist_05',\n",
       " 'http://www.majortests.com/gre/wordlist_06',\n",
       " 'http://www.majortests.com/gre/wordlist_07',\n",
       " 'http://www.majortests.com/gre/wordlist_08',\n",
       " 'http://www.majortests.com/gre/wordlist_09',\n",
       " 'http://www.majortests.com/gre/wordlist_10',\n",
       " 'http://www.majortests.com/gre/wordlist_11',\n",
       " 'http://www.majortests.com/gre/wordlist_12',\n",
       " 'http://www.majortests.com/gre/wordlist_13',\n",
       " 'http://www.majortests.com/gre/wordlist_14',\n",
       " 'http://www.majortests.com/gre/wordlist_15']"
      ]
     },
     "execution_count": 25,
     "metadata": {},
     "output_type": "execute_result"
    }
   ],
   "source": [
    "href_list # wordlist_url"
   ]
  },
  {
   "cell_type": "code",
   "execution_count": 26,
   "metadata": {
    "collapsed": true
   },
   "outputs": [],
   "source": [
    "# take in a request object and return a list of words\n",
    "def makeWordList(res):\n",
    "    words_list = []\n",
    "    soup = BeautifulSoup(res.read(), 'html5lib')\n",
    "    \n",
    "    words = soup.find_all('th')\n",
    "    \n",
    "    for word in words:\n",
    "        words_list.append(word.text)\n",
    "    \n",
    "    return words_list\n",
    "\n",
    "\n",
    "# take in a request object and return a list of \n",
    "# definitions of words\n",
    "def makeDefList(res):\n",
    "    defs_list = []\n",
    "    soup = BeautifulSoup(res.read(), 'html5lib')\n",
    "    \n",
    "    means = soup.find_all('td')\n",
    "    \n",
    "    for mean in means:\n",
    "        defs_list.append(mean.text)\n",
    "    \n",
    "    return defs_list\n",
    "\n",
    "# take in 2 lists for words and definitions\n",
    "# return a list of tuples of word and defin pair\n",
    "def makePair(word_list, mean_list):\n",
    "    pair_list = []\n",
    "    zipped = zip(word_list, mean_list)\n",
    "    \n",
    "    # loop through zip object\n",
    "    for p in zipped:\n",
    "        # add each pair to output list\n",
    "        pair_list.append(p)\n",
    "        \n",
    "    return pair_list\n",
    "\n",
    "# take in a list of tuples and print out a whole listing of words\n",
    "def printWord(li):\n",
    "    # i = index number; w = a pair of work and its definition(tuple) \n",
    "    for i, w in enumerate(li):\n",
    "        print(str(i+1) + \". \" + w[0] + \" : \" + w[1])"
   ]
  },
  {
   "cell_type": "code",
   "execution_count": 14,
   "metadata": {},
   "outputs": [],
   "source": [
    "# actual processing\n",
    "\n",
    "# list for storing a final output\n",
    "globalList = []\n",
    "\n",
    "# size of a list of links\n",
    "n = len(href_list)\n",
    "\n",
    "# iterate over links of words list\n",
    "# and make a list of (word, def.)\n",
    "for i in range(n):\n",
    "    localList = []\n",
    "    words_list = []\n",
    "    means_list = []\n",
    "    \n",
    "    res = request.urlopen(href_list[i])\n",
    "    words_list = makeWordList(res)\n",
    "    \n",
    "    res = request.urlopen(href_list[i])\n",
    "    means_list = makeDefList(res)\n",
    "\n",
    "    localList = makePair(words_list, means_list)\n",
    "\n",
    "    globalList += localList"
   ]
  },
  {
   "cell_type": "code",
   "execution_count": 15,
   "metadata": {},
   "outputs": [
    {
     "data": {
      "text/plain": [
       "1500"
      ]
     },
     "execution_count": 15,
     "metadata": {},
     "output_type": "execute_result"
    }
   ],
   "source": [
    "# size of the list\n",
    "len(globalList) "
   ]
  },
  {
   "cell_type": "code",
   "execution_count": 29,
   "metadata": {
    "scrolled": true
   },
   "outputs": [],
   "source": [
    "# Print the whold listing\n",
    "# comment out if you would like to see\n",
    "# print(\"Word   :    Definitions\")\n",
    "# print(\"=====================\")\n",
    "\n",
    "# sorting\n",
    "globalList.sort()\n",
    "\n",
    "# printing word list\n",
    "# printWord(globalList)"
   ]
  },
  {
   "cell_type": "code",
   "execution_count": 17,
   "metadata": {},
   "outputs": [
    {
     "data": {
      "text/html": [
       "<div>\n",
       "<style scoped>\n",
       "    .dataframe tbody tr th:only-of-type {\n",
       "        vertical-align: middle;\n",
       "    }\n",
       "\n",
       "    .dataframe tbody tr th {\n",
       "        vertical-align: top;\n",
       "    }\n",
       "\n",
       "    .dataframe thead th {\n",
       "        text-align: right;\n",
       "    }\n",
       "</style>\n",
       "<table border=\"1\" class=\"dataframe\">\n",
       "  <thead>\n",
       "    <tr style=\"text-align: right;\">\n",
       "      <th></th>\n",
       "      <th>Word</th>\n",
       "      <th>Definition</th>\n",
       "    </tr>\n",
       "  </thead>\n",
       "  <tbody>\n",
       "    <tr>\n",
       "      <th>1</th>\n",
       "      <td>Abasement</td>\n",
       "      <td>humiliation; degradation</td>\n",
       "    </tr>\n",
       "    <tr>\n",
       "      <th>2</th>\n",
       "      <td>Abate</td>\n",
       "      <td>reduce in intensity</td>\n",
       "    </tr>\n",
       "    <tr>\n",
       "      <th>3</th>\n",
       "      <td>Aberration</td>\n",
       "      <td>deviation from the normal</td>\n",
       "    </tr>\n",
       "    <tr>\n",
       "      <th>4</th>\n",
       "      <td>Abeyance</td>\n",
       "      <td>state of inactivity; disuse</td>\n",
       "    </tr>\n",
       "    <tr>\n",
       "      <th>5</th>\n",
       "      <td>Abhor</td>\n",
       "      <td>hate</td>\n",
       "    </tr>\n",
       "  </tbody>\n",
       "</table>\n",
       "</div>"
      ],
      "text/plain": [
       "         Word                   Definition\n",
       "1   Abasement     humiliation; degradation\n",
       "2       Abate          reduce in intensity\n",
       "3  Aberration    deviation from the normal\n",
       "4    Abeyance  state of inactivity; disuse\n",
       "5       Abhor                         hate"
      ]
     },
     "execution_count": 17,
     "metadata": {},
     "output_type": "execute_result"
    }
   ],
   "source": [
    "# store the words in DataFrame\n",
    "import pandas as pd\n",
    "\n",
    "# making DataFrame object with index starting with 1 up to the size of the list\n",
    "df = pd.DataFrame(globalList, columns=[ \"Word\", \"Definition\"], index=[i for i in range(1, len(globalList)+1)])\n",
    "\n",
    "# display the first 5 rows in the DF object\n",
    "df.head()"
   ]
  },
  {
   "cell_type": "code",
   "execution_count": 18,
   "metadata": {},
   "outputs": [
    {
     "data": {
      "text/html": [
       "<div>\n",
       "<style scoped>\n",
       "    .dataframe tbody tr th:only-of-type {\n",
       "        vertical-align: middle;\n",
       "    }\n",
       "\n",
       "    .dataframe tbody tr th {\n",
       "        vertical-align: top;\n",
       "    }\n",
       "\n",
       "    .dataframe thead th {\n",
       "        text-align: right;\n",
       "    }\n",
       "</style>\n",
       "<table border=\"1\" class=\"dataframe\">\n",
       "  <thead>\n",
       "    <tr style=\"text-align: right;\">\n",
       "      <th></th>\n",
       "      <th>Word</th>\n",
       "      <th>Definition</th>\n",
       "    </tr>\n",
       "  </thead>\n",
       "  <tbody>\n",
       "    <tr>\n",
       "      <th>1496</th>\n",
       "      <td>Xenophobe</td>\n",
       "      <td>person afraid of foreigners</td>\n",
       "    </tr>\n",
       "    <tr>\n",
       "      <th>1497</th>\n",
       "      <td>Zany</td>\n",
       "      <td>crazy; wacky</td>\n",
       "    </tr>\n",
       "    <tr>\n",
       "      <th>1498</th>\n",
       "      <td>Zeal</td>\n",
       "      <td>enthusiasm</td>\n",
       "    </tr>\n",
       "    <tr>\n",
       "      <th>1499</th>\n",
       "      <td>Zealot</td>\n",
       "      <td>fanatic</td>\n",
       "    </tr>\n",
       "    <tr>\n",
       "      <th>1500</th>\n",
       "      <td>Zenith</td>\n",
       "      <td>summit</td>\n",
       "    </tr>\n",
       "  </tbody>\n",
       "</table>\n",
       "</div>"
      ],
      "text/plain": [
       "           Word                   Definition\n",
       "1496  Xenophobe  person afraid of foreigners\n",
       "1497       Zany                 crazy; wacky\n",
       "1498       Zeal                   enthusiasm\n",
       "1499     Zealot                      fanatic\n",
       "1500     Zenith                       summit"
      ]
     },
     "execution_count": 18,
     "metadata": {},
     "output_type": "execute_result"
    }
   ],
   "source": [
    "# display the last 5 columns in the DF object\n",
    "df.tail()"
   ]
  },
  {
   "cell_type": "code",
   "execution_count": 19,
   "metadata": {
    "collapsed": true
   },
   "outputs": [],
   "source": [
    "# move it to Database\n",
    "\n",
    "# create a database\n",
    "# create a database table(schema)\n",
    "# create a connection to the database\n",
    "# migrate DF data into database"
   ]
  },
  {
   "cell_type": "code",
   "execution_count": null,
   "metadata": {
    "collapsed": true
   },
   "outputs": [],
   "source": []
  },
  {
   "cell_type": "code",
   "execution_count": null,
   "metadata": {
    "collapsed": true
   },
   "outputs": [],
   "source": []
  }
 ],
 "metadata": {
  "kernelspec": {
   "display_name": "Python 3",
   "language": "python",
   "name": "python3"
  },
  "language_info": {
   "codemirror_mode": {
    "name": "ipython",
    "version": 3
   },
   "file_extension": ".py",
   "mimetype": "text/x-python",
   "name": "python",
   "nbconvert_exporter": "python",
   "pygments_lexer": "ipython3",
   "version": "3.6.4"
  }
 },
 "nbformat": 4,
 "nbformat_minor": 2
}
